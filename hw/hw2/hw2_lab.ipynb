{
 "cells": [
  {
   "cell_type": "markdown",
   "id": "3d54d44d",
   "metadata": {},
   "source": [
    "# Homework: Proper and Improper Scoring Rules\n",
    "\n",
    "Scoring rules, or score functions, measure how good a probabilistic forecast is. As we saw in lecture, generally we want to use strictly proper scoring rules to compare forecasts, in order to extract people's true beliefs. This notebook will touch on a couple different scoring rules, both proper and improper, to explore how they differ and how improper rules can be \"gamed\"."
   ]
  },
  {
   "cell_type": "markdown",
   "id": "c23b50bb",
   "metadata": {},
   "source": [
    "## Gradescope Submission \n",
    "To submit this assignment, rerun the notebook from scratch (by selecting Kernel > Restart & Run all), and then print as a pdf (File > download as > pdf) and submit it to Gradescope.\n",
    "\n",
    "\n",
    "**This assignment should be completed and submitted before Monday, January 31st, 2022 at 7 PM. PT**"
   ]
  },
  {
   "cell_type": "markdown",
   "id": "bf0f2234",
   "metadata": {},
   "source": [
    "# I. Naive Linear Score\n",
    "\n",
    "Imagine we have a biased coin that has a 60% chance of Heads and 40% chance of Tails and we ask forecasters to give a probability distribution for the outcome of the coin flip, i.e. a vector $q = (q_H, q_T)$ where $q_H + q_T = 1$. As mentioned in lecture, here's a simple linear score $f$ we could define:\n",
    "\n",
    "$$f(q, i) = q_i$$\n",
    "\n",
    "or in other words, you get $q_H$ points if the coin lands Heads and $q_T$ points if the coin lands Tails. To get a feel for this score, we've implemented an interactive widget below that outputs your average score over many coin flips, when you input a forecast for the probability of heads. Try it out for a few different forecasts and numbers of flips."
   ]
  },
  {
   "cell_type": "code",
   "execution_count": 1,
   "id": "f48710eb",
   "metadata": {},
   "outputs": [],
   "source": [
    "import numpy as np\n",
    "import matplotlib.pyplot as plt\n",
    "from ipywidgets import interact_manual\n",
    "import ipywidgets as widgets\n",
    "from helper import submit_forecast_win"
   ]
  },
  {
   "cell_type": "code",
   "execution_count": 18,
   "id": "712d788d",
   "metadata": {},
   "outputs": [],
   "source": [
    "def submit_forecast(heads_forecast, num_flips):\n",
    "    flips = np.random.rand(num_flips)    \n",
    "    heads = (flips < 0.6).sum()\n",
    "    tails = num_flips - heads\n",
    "    avg_score = (heads_forecast * heads + (1 - heads_forecast) * tails)/num_flips\n",
    "    return (f\"Score over {num_flips} coin flips: \", avg_score)"
   ]
  },
  {
   "cell_type": "code",
   "execution_count": 19,
   "id": "41b61f7e",
   "metadata": {},
   "outputs": [
    {
     "data": {
      "application/vnd.jupyter.widget-view+json": {
       "model_id": "dac38ad66fdb41039d89da64c6fe9af6",
       "version_major": 2,
       "version_minor": 0
      },
      "text/plain": [
       "interactive(children=(FloatSlider(value=0.5, description='heads_forecast', max=1.0, step=0.01), IntSlider(valu…"
      ]
     },
     "metadata": {},
     "output_type": "display_data"
    },
    {
     "data": {
      "text/plain": [
       "<function __main__.submit_forecast(heads_forecast, num_flips)>"
      ]
     },
     "execution_count": 19,
     "metadata": {},
     "output_type": "execute_result"
    }
   ],
   "source": [
    "game = interact_manual(submit_forecast, \n",
    "                       heads_forecast=widgets.FloatSlider(min=0, max=1, step=.01, value=.5), \n",
    "                       num_flips=widgets.IntSlider(value=50))\n",
    "game"
   ]
  },
  {
   "cell_type": "markdown",
   "id": "ff2953ae",
   "metadata": {},
   "source": [
    "Over many coin flips, we can compute the expected score for any given vector $q$, which we've implemented below."
   ]
  },
  {
   "cell_type": "code",
   "execution_count": 14,
   "id": "d8e6473f",
   "metadata": {},
   "outputs": [],
   "source": [
    "# Here we define a helper function to make sure that we're only working with valid probability distributions\n",
    "def check_distributions(q, true_dist):\n",
    "    assert(np.sum(q) == 1 and np.sum(true_dist) == 1)\n",
    "    assert(len(q) == len(true_dist))"
   ]
  },
  {
   "cell_type": "code",
   "execution_count": 15,
   "id": "bc60e2a9",
   "metadata": {},
   "outputs": [],
   "source": [
    "def expected_linear_score(q, true_dist):\n",
    "    check_distributions(q, true_dist)\n",
    "    \n",
    "    return np.dot(q, true_dist)"
   ]
  },
  {
   "cell_type": "markdown",
   "id": "029bbdfd",
   "metadata": {},
   "source": [
    "If you know that the coin is biased 60-40, and you want to get the highest score according to this linear score, what forecast should you give as your $q$? You could report $q = (0.6, 0.4)$ and we see that this gives an expected score of 0.52. Can you find a $q$ that does better than this?"
   ]
  },
  {
   "cell_type": "code",
   "execution_count": 16,
   "id": "aeb6133d",
   "metadata": {},
   "outputs": [
    {
     "data": {
      "text/plain": [
       "0.52"
      ]
     },
     "execution_count": 16,
     "metadata": {},
     "output_type": "execute_result"
    }
   ],
   "source": [
    "biased_coin = (0.6, 0.4)\n",
    "\n",
    "q = (0.6, 0.4)\n",
    "expected_linear_score(q, biased_coin)"
   ]
  },
  {
   "cell_type": "markdown",
   "id": "9cd0df9d",
   "metadata": {},
   "source": [
    "### Q1. What's the optimal $q$ for this naive linear score and what score does it get? "
   ]
  },
  {
   "cell_type": "markdown",
   "id": "b8489521",
   "metadata": {},
   "source": [
    "Your answer here."
   ]
  },
  {
   "cell_type": "markdown",
   "id": "7d8e7b68",
   "metadata": {},
   "source": [
    "### Q2. Plot the naive linear score for all possible forecasts $q$. Is the naive linear score a proper scoring rule?"
   ]
  },
  {
   "cell_type": "markdown",
   "id": "3e83c6ab",
   "metadata": {},
   "source": [
    "Your answer here."
   ]
  },
  {
   "cell_type": "markdown",
   "id": "4b85c989",
   "metadata": {},
   "source": [
    "# II. Logarithmic Score\n",
    "\n",
    "As we saw in lecture, Good's logarithmic scoring rule is defined as:\n",
    "\n",
    "$$f(q, i) = \\log(q_i)$$\n",
    "\n",
    "We've implemented a function to calculate the expected logarithmic score of a coin flip forecast below. Again, a higher score is better."
   ]
  },
  {
   "cell_type": "code",
   "execution_count": 5,
   "id": "0e635d86",
   "metadata": {},
   "outputs": [],
   "source": [
    "def expected_log_score(q, true_dist):\n",
    "    check_distributions(q, true_dist)\n",
    "    assert(min(q) > 0 and min(true_dist) > 0) # avoid undefined scores\n",
    "    \n",
    "    return np.dot(np.log(q), true_dist)"
   ]
  },
  {
   "cell_type": "markdown",
   "id": "97188bbc",
   "metadata": {},
   "source": [
    "We'll continue using the biased coin that lands Heads 60% of the time. "
   ]
  },
  {
   "cell_type": "code",
   "execution_count": 6,
   "id": "cc72f32f",
   "metadata": {},
   "outputs": [
    {
     "data": {
      "text/plain": [
       "-0.6730116670092565"
      ]
     },
     "execution_count": 6,
     "metadata": {},
     "output_type": "execute_result"
    }
   ],
   "source": [
    "q = (0.6, 0.4)\n",
    "expected_log_score(q, biased_coin)"
   ]
  },
  {
   "cell_type": "markdown",
   "id": "b46b1d3f",
   "metadata": {},
   "source": [
    "### Q3. What's the logarithmic score for $q = (0.2, 0.8)$? For $q = (0.5, 0.5)$? For $q = (0.999, 0.001)$?"
   ]
  },
  {
   "cell_type": "markdown",
   "id": "f1c585d5",
   "metadata": {},
   "source": [
    "Your answer here."
   ]
  },
  {
   "cell_type": "markdown",
   "id": "8ef5ba5b",
   "metadata": {},
   "source": [
    "### Q4. Plot the logarithmic score for all possible forecasts $q$."
   ]
  },
  {
   "cell_type": "markdown",
   "id": "a2632a7a",
   "metadata": {},
   "source": [
    "Your answer here."
   ]
  },
  {
   "cell_type": "markdown",
   "id": "6d7ac8e3",
   "metadata": {},
   "source": [
    "### Q5. What's the optimal $q$ for the logarithmic score, when forecasting the biased coin? Is the logarithmic score a proper scoring rule?"
   ]
  },
  {
   "cell_type": "markdown",
   "id": "794ecd4e",
   "metadata": {},
   "source": [
    "Your answer here."
   ]
  },
  {
   "cell_type": "markdown",
   "id": "50bab5f1",
   "metadata": {},
   "source": [
    "# III. Brier's Quadratic Score\n",
    "\n",
    "Also seen in lecture, Brier's quadratic scoring rule is defined as:\n",
    "\n",
    "$$f(q, i) = -\\sum_{j=1}^n (q_j - o_{ij})^2 $$\n",
    "\n",
    "where $o_{ij} = 1$ if $i = j$ and 0 otherwise. This expression can be equivalently written as:\n",
    "\n",
    "$$f(q, i) = 2q_i - 1 - \\sum_{j=1}^n q_j^2$$"
   ]
  },
  {
   "cell_type": "markdown",
   "id": "a570b824",
   "metadata": {},
   "source": [
    "### Q6. Implement the function `expected_quad_score` below to calculate the expected quadratic score given a forecast and a true distribution."
   ]
  },
  {
   "cell_type": "code",
   "execution_count": null,
   "id": "810df664",
   "metadata": {},
   "outputs": [],
   "source": [
    "def expected_quad_score(q, true_dist):\n",
    "    check_distributions(q, true_dist)\n",
    "    \n",
    "    score = # Your code here\n",
    "    \n",
    "    return score"
   ]
  },
  {
   "cell_type": "markdown",
   "id": "bbe2383c",
   "metadata": {},
   "source": [
    "### Q7. Plot the quadratic score for all possible forecasts for the biased coin."
   ]
  },
  {
   "cell_type": "markdown",
   "id": "128b1cf9",
   "metadata": {},
   "source": [
    "Your answer here."
   ]
  },
  {
   "cell_type": "markdown",
   "id": "edbbcef8",
   "metadata": {},
   "source": [
    "# IV. Logarithmic vs. Quadratic Scoring Rules"
   ]
  },
  {
   "cell_type": "markdown",
   "id": "c1d17f6b",
   "metadata": {},
   "source": [
    "### Q8. Rare events.\n",
    "Imagine you and your friend Alice are competing to see who is the better forecaster. You know that you are generally better than Alice at being precise about the probabilities of rare events -- for example, once something is rarer than a 1 in 100 chance, Alice treats that as having a 1 in 100 probability, while you are good at differentiating between things that are 1 in 100 and those that are 1 in a 10 thousand. **If you want a forecasting to show your advantage on this, would you rather have the scoring rule be logarithmic or quadratic? Why?**\n"
   ]
  },
  {
   "cell_type": "markdown",
   "id": "d17cc75c",
   "metadata": {},
   "source": [
    "Your answer here."
   ]
  },
  {
   "cell_type": "markdown",
   "id": "a9400720",
   "metadata": {},
   "source": [
    "### Q9. Precision in the middle\n",
    "\n",
    "Now imagine you are competing against your friend Bob. He's quite good at estimating rare event probabilities. However, you notice that when an two things both have substantial probabililty of happening, he tends to just forecast 50%, while you are good at evaluating considerations that push you to make more precise forecasts, such as 42-58. **Would you rather compete with Bob on a log score or quadratic score? Why?**"
   ]
  },
  {
   "cell_type": "markdown",
   "id": "4f7a4536",
   "metadata": {},
   "source": [
    "Your answer here."
   ]
  },
  {
   "cell_type": "markdown",
   "id": "415a15c3",
   "metadata": {},
   "source": [
    "### Q10. More than two options\n",
    "\n",
    "Imagine you are forecasting which of the Final Four teams (Teams A, B, C, and D) in a tournament will be the champion. You believe the teams chances are, in order: 5%, 10%, 60%, 25%. You submit this forecast, and Team C wins, so you are pretty happy you put a high probability on that outcome! Then you learn that someone else who also put a 60% chance on Team C got a higher quadratic score than you. **How is this possible? Give an example of a forecast that would beat your quadratic score.**"
   ]
  },
  {
   "cell_type": "markdown",
   "id": "91b42637",
   "metadata": {},
   "source": [
    "Your answer here."
   ]
  },
  {
   "cell_type": "markdown",
   "id": "dec29418",
   "metadata": {},
   "source": [
    "# IV. Winning Prizes\n",
    "\n",
    "Of course, forecast scoring is often a tool to get us to our ultimate goal, rewarding accurate forecasts. Let's look at how rewards might affect things.\n",
    "\n",
    "**Setting:** You know that a coin is biased to land Heads 80% of the time, and a prize committee is soliciting forecasts for the coin's distribution. The committee learned about scoring rules from Stat 157, so they plan give a prize to the forecaster with the highest logarithmic score. (For full context, there are no prizes for second place, etc., and they don't release rankings so there's no difference between being second or second-to-last). "
   ]
  },
  {
   "cell_type": "markdown",
   "id": "1da4b205",
   "metadata": {},
   "source": [
    "### Q11. One coin flip.\n",
    "\n",
    "Say the prize committee will just flip the coin once, compute every forecaster's logarithmic score, i.e. $\\log(q_i)$, and award the person with the highest score a nice prize (aside: if there are ties, both people get the full prize). You know that the other forecasters will submit the following forecasts:\n",
    "\n",
    "- (0.7, 0.3)\n",
    "- (0.8, 0.2)\n",
    "- (0.9, 0.1)\n",
    "\n",
    "To get a sense for how the contest could go, we've implemented an interactive widget below so you can input a forecast for the heads probability and the widget will flip a coin and determine if you win the contest."
   ]
  },
  {
   "cell_type": "code",
   "execution_count": 25,
   "id": "35921e08",
   "metadata": {},
   "outputs": [
    {
     "data": {
      "application/vnd.jupyter.widget-view+json": {
       "model_id": "df05e293e2744ad78c5fb568ea3f9f46",
       "version_major": 2,
       "version_minor": 0
      },
      "text/plain": [
       "interactive(children=(FloatSlider(value=0.5, description='heads_prob', max=1.0, step=0.01), Button(description…"
      ]
     },
     "metadata": {},
     "output_type": "display_data"
    },
    {
     "data": {
      "text/plain": [
       "<function helper.submit_forecast_win(heads_prob)>"
      ]
     },
     "execution_count": 25,
     "metadata": {},
     "output_type": "execute_result"
    }
   ],
   "source": [
    "game = interact_manual(submit_forecast_win, heads_prob=widgets.FloatSlider(min=0, max=1, step=.01, value=.5))\n",
    "game"
   ]
  },
  {
   "cell_type": "markdown",
   "id": "f85dac25",
   "metadata": {},
   "source": [
    "**Write a function to calculate your expected chance of winning the prize, for forecast `q`. Based on this, what should you forecast?**"
   ]
  },
  {
   "cell_type": "markdown",
   "id": "c7a7c78b",
   "metadata": {},
   "source": [
    "Your answer here."
   ]
  },
  {
   "cell_type": "markdown",
   "id": "a865f240",
   "metadata": {},
   "source": [
    "### Q12. Two coin flips.\n",
    "Now say the prize committee will flip the coin twice and compute the average logarithmic score across the two flips to determine the winner. Assume the other forecasts are the same as in the previous problem. **Write a function to calculate your expected chance of winning. What should you forecast?**"
   ]
  },
  {
   "cell_type": "markdown",
   "id": "33718790",
   "metadata": {},
   "source": [
    "Your answer here."
   ]
  },
  {
   "cell_type": "markdown",
   "id": "b9689b4b",
   "metadata": {},
   "source": [
    "### Q13. How can you reconcile the answers to the above two questions with the fact that the logarithmic score is a proper scoring rule?"
   ]
  },
  {
   "cell_type": "markdown",
   "id": "76b37765",
   "metadata": {},
   "source": [
    "Your answer here."
   ]
  }
 ],
 "metadata": {
  "kernelspec": {
   "display_name": "Python 3 (ipykernel)",
   "language": "python",
   "name": "python3"
  },
  "language_info": {
   "codemirror_mode": {
    "name": "ipython",
    "version": 3
   },
   "file_extension": ".py",
   "mimetype": "text/x-python",
   "name": "python",
   "nbconvert_exporter": "python",
   "pygments_lexer": "ipython3",
   "version": "3.9.7"
  }
 },
 "nbformat": 4,
 "nbformat_minor": 5
}
