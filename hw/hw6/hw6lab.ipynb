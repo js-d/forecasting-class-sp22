{
 "cells": [
  {
   "cell_type": "markdown",
   "metadata": {},
   "source": [
    "To submit this assignment, rerun the notebook from scratch (by selecting Kernel > Restart & Run all), and then print as a pdf (File > download as > pdf) and submit it to Gradescope. You are also welcome to use R or another language if you are more comfortable with data analysis in that language.\n",
    "\n",
    "**This assignment should be completed and submitted before Monday, February 28, 2022 at 11:59 PM. PT**\n",
    "\n",
    "The following dataset contains the frequency of the most common surnames in the US according to the 1990 Census: each row corresponds to a surname, and the corresponding value is an approximation of the number of people with that surname."
   ]
  },
  {
   "cell_type": "code",
   "execution_count": 3,
   "metadata": {},
   "outputs": [],
   "source": [
    "import pandas as pd\n",
    "df = pd.read_csv(\"surnames.csv\")"
   ]
  },
  {
   "cell_type": "markdown",
   "metadata": {},
   "source": [
    "1. Store the unique surname frequencies in an array `frequencies`. For every surname frequency, compute the proportion of 1990 US citizens with a more frequent surname. Store these proportions in a second array `tail_cdf`. Plot `tail_cdf` as a function of `frequencies` on a log-log scale."
   ]
  },
  {
   "cell_type": "code",
   "execution_count": null,
   "metadata": {},
   "outputs": [],
   "source": []
  },
  {
   "cell_type": "markdown",
   "metadata": {},
   "source": [
    "2. What distribution do you think would be a good fit for the data? Explain your reasoning. "
   ]
  },
  {
   "cell_type": "markdown",
   "metadata": {},
   "source": [
    "3. Estimate the parameters of this distribution."
   ]
  },
  {
   "cell_type": "code",
   "execution_count": null,
   "metadata": {},
   "outputs": [],
   "source": []
  },
  {
   "cell_type": "markdown",
   "metadata": {},
   "source": [
    "4. How reliable is the method you used in questions 2. and 3.? Explain your reasoning. Can you think of more reliable methods?"
   ]
  }
 ],
 "metadata": {
  "interpreter": {
   "hash": "278a48ba2fce80f60335a080d9b958508a22a9efbfefbf5f706d5d945e04a847"
  },
  "kernelspec": {
   "display_name": "Python 3.9.7 ('mlenv')",
   "language": "python",
   "name": "python3"
  },
  "language_info": {
   "codemirror_mode": {
    "name": "ipython",
    "version": 3
   },
   "file_extension": ".py",
   "mimetype": "text/x-python",
   "name": "python",
   "nbconvert_exporter": "python",
   "pygments_lexer": "ipython3",
   "version": "3.9.7"
  },
  "orig_nbformat": 4
 },
 "nbformat": 4,
 "nbformat_minor": 2
}
