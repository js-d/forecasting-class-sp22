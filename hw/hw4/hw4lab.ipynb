{
 "cells": [
  {
   "cell_type": "markdown",
   "id": "8b86aeb5",
   "metadata": {},
   "source": [
    "# Homework 4 Lab: Forecasting points per game (PPG) in the NBA\n",
    "\n",
    "We will be using data scraped from https://www.basketball-reference.com/ to explore different forecasting strategies to predict who will have the highest PPG in the NBA in a particular week. We'll use data from the 2020-21 NBA season between December 2020 and March 2021 to forecast the highest PPG players in April 2021, the final month of the regular season. This lab has many open-ended questions, and there is often not one correct answer. We will grade submissions mostly based on your reasoning."
   ]
  },
  {
   "cell_type": "markdown",
   "id": "6f5ae1b3",
   "metadata": {},
   "source": [
    "## Gradescope Submission \n",
    "To submit this assignment, rerun the notebook from scratch (by selecting Kernel > Restart & Run all), and then print as a pdf (File > download as > pdf) and submit it to Gradescope. You are also welcome to use R or another language if you are more comfortable with data analysis in that language.\n",
    "\n",
    "\n",
    "**This assignment should be completed and submitted before Monday, February 14, 2022 at 11:59 PM. PT**"
   ]
  },
  {
   "cell_type": "code",
   "execution_count": 18,
   "id": "66d2dfaa",
   "metadata": {},
   "outputs": [],
   "source": [
    "import numpy as np\n",
    "import pandas as pd\n",
    "from matplotlib import pyplot as plt\n",
    "from collections import Counter"
   ]
  },
  {
   "cell_type": "markdown",
   "id": "479d5911",
   "metadata": {},
   "source": [
    "### Data\n",
    "We have collected the raw data you will be using into the file \"scraped_games_2020-21.csv\". Here we will import it and provide small amounts of starter code with the pandas library in Python, but feel free to use other languages. If you're interested in seeing the code we ran to scrape this data (which could be useful for your final project), we'll post it in a separate file on the course website."
   ]
  },
  {
   "cell_type": "code",
   "execution_count": 3,
   "id": "1bf8392c",
   "metadata": {},
   "outputs": [
    {
     "data": {
      "text/html": [
       "<div>\n",
       "<style scoped>\n",
       "    .dataframe tbody tr th:only-of-type {\n",
       "        vertical-align: middle;\n",
       "    }\n",
       "\n",
       "    .dataframe tbody tr th {\n",
       "        vertical-align: top;\n",
       "    }\n",
       "\n",
       "    .dataframe thead th {\n",
       "        text-align: right;\n",
       "    }\n",
       "</style>\n",
       "<table border=\"1\" class=\"dataframe\">\n",
       "  <thead>\n",
       "    <tr style=\"text-align: right;\">\n",
       "      <th></th>\n",
       "      <th>Date</th>\n",
       "      <th>Player</th>\n",
       "      <th>Pts</th>\n",
       "    </tr>\n",
       "  </thead>\n",
       "  <tbody>\n",
       "    <tr>\n",
       "      <th>0</th>\n",
       "      <td>2020-12-22</td>\n",
       "      <td>Wiggins,Andrew</td>\n",
       "      <td>13</td>\n",
       "    </tr>\n",
       "    <tr>\n",
       "      <th>1</th>\n",
       "      <td>2020-12-22</td>\n",
       "      <td>Curry,Stephen</td>\n",
       "      <td>20</td>\n",
       "    </tr>\n",
       "    <tr>\n",
       "      <th>2</th>\n",
       "      <td>2020-12-22</td>\n",
       "      <td>Oubre,Kelly</td>\n",
       "      <td>6</td>\n",
       "    </tr>\n",
       "    <tr>\n",
       "      <th>3</th>\n",
       "      <td>2020-12-22</td>\n",
       "      <td>Wiseman,James</td>\n",
       "      <td>19</td>\n",
       "    </tr>\n",
       "    <tr>\n",
       "      <th>4</th>\n",
       "      <td>2020-12-22</td>\n",
       "      <td>Paschall,Eric</td>\n",
       "      <td>6</td>\n",
       "    </tr>\n",
       "  </tbody>\n",
       "</table>\n",
       "</div>"
      ],
      "text/plain": [
       "        Date          Player  Pts\n",
       "0 2020-12-22  Wiggins,Andrew   13\n",
       "1 2020-12-22   Curry,Stephen   20\n",
       "2 2020-12-22     Oubre,Kelly    6\n",
       "3 2020-12-22   Wiseman,James   19\n",
       "4 2020-12-22   Paschall,Eric    6"
      ]
     },
     "execution_count": 3,
     "metadata": {},
     "output_type": "execute_result"
    }
   ],
   "source": [
    "df = pd.read_csv(\"scraped_games_2020-21.csv\", index_col=0, parse_dates=['Date'])\n",
    "df.head()"
   ]
  },
  {
   "cell_type": "markdown",
   "id": "5a27af3b",
   "metadata": {},
   "source": [
    "### Optional preprocessing steps"
   ]
  },
  {
   "cell_type": "code",
   "execution_count": 4,
   "id": "8ad31d65",
   "metadata": {},
   "outputs": [],
   "source": [
    "# Split into pre-April and April data; here we'ved named them train and test but the variable names don't matter.\n",
    "df_train = df[df[\"Date\"] < \"2021-3-29\"]\n",
    "df_test = df[df[\"Date\"] >= \"2021-3-29\"]"
   ]
  },
  {
   "cell_type": "code",
   "execution_count": 5,
   "id": "4fe8cec0",
   "metadata": {},
   "outputs": [],
   "source": [
    "# We group the games by week and find the total points scored by each player that week\n",
    "# The flag freq='W-MON' will group data weekly on Mondays as described in https://pandas.pydata.org/pandas-docs/stable/user_guide/timeseries.html#offset-aliases\n",
    "df_train_weekly = df_train.groupby([pd.Grouper(key='Date', freq='W-MON'), 'Player'])['Pts'].sum().reset_index().sort_values(['Date', 'Pts'], ascending=[True,False])\n",
    "df_test_weekly = df_test.groupby([pd.Grouper(key='Date', freq='W-MON'), 'Player'])['Pts'].sum().reset_index().sort_values(['Date', 'Pts'], ascending=[True,False])"
   ]
  },
  {
   "cell_type": "markdown",
   "id": "89930ebd",
   "metadata": {},
   "source": [
    "# Approach 1: Reference class forecasting\n",
    "\n",
    "We can look at how often each player had the highest PPG over a week. If the weeks we are forecasting are similar to weeks in the rest of the season, this is a reasonable reference class to use. "
   ]
  },
  {
   "cell_type": "markdown",
   "id": "196b9f6b",
   "metadata": {},
   "source": [
    "## Q1. Collect reference class data\n",
    "\n",
    "a) For each of the 14 weeks between December 2020 and March 2021, which player had the highest PPG?\n",
    "\n",
    "b) Which players had the highest PPG in more than one week, and how many weeks did they have the highest PPG? "
   ]
  },
  {
   "cell_type": "code",
   "execution_count": 6,
   "id": "7c9adda4",
   "metadata": {},
   "outputs": [],
   "source": [
    "# space for work"
   ]
  },
  {
   "cell_type": "markdown",
   "id": "599bf119",
   "metadata": {},
   "source": [
    "## Q2. Using Q1, forecast PPG in April 2021 with a naive reference class forecast.\n",
    "Let's assume that the highest PPG player each week is drawn from a multinomial, where each player $i$ has probability $p_i$ of getting the highest PPG. Next assume that that data we collected from Q1 gives us exactly those probabilities (i.e., if a player had the highest PPG in 1 out of 14 weeks, $p_i$ for that player is $1/14 \\approx 0.07$). \n",
    "\n",
    "Based on these assumptions, what would be our forecast for who will get the highest PPG in a given week in April? (This should assign a forecast $q_i$ to every NBA player, where $\\sum q_i = 1$)."
   ]
  },
  {
   "cell_type": "code",
   "execution_count": 7,
   "id": "dbcb4b50",
   "metadata": {},
   "outputs": [],
   "source": [
    "# space for work"
   ]
  },
  {
   "cell_type": "markdown",
   "id": "6d308e08",
   "metadata": {},
   "source": [
    "## Q3. Evaluate the Q2 forecast\n",
    "We know who was the player with the highest PPG in each of the weeks of April. Imagine we submitted the forecast from Q2 for every week in April. Calculate the average Brier quadratic score of the forecast from Q2 across April's weeks, using the resolved outcomes in our dataset."
   ]
  },
  {
   "cell_type": "code",
   "execution_count": 8,
   "id": "653fce41",
   "metadata": {},
   "outputs": [],
   "source": [
    "# space for work"
   ]
  },
  {
   "cell_type": "markdown",
   "id": "f33ba36f",
   "metadata": {},
   "source": [
    "## Q4. Better base rates\n",
    "\n",
    "We made pretty strong assumptions in Q2, for example that if a player didn’t have the highest PPG in any of the 14 weeks before April, they had 0 probability of getting the highest PPG in future weeks. This seems pretty inaccurate, and in lecture we discussed ways to estimate base rates for events that haven't happened yet.\n",
    "\n",
    "Modify the forecast from Q2 to give **positive** probability $p_i$ to each player. Justify your forecast. (This is meant to be open-ended; there is not one correct answer we are looking for)."
   ]
  },
  {
   "cell_type": "code",
   "execution_count": 9,
   "id": "fcc2da5d",
   "metadata": {},
   "outputs": [],
   "source": [
    "# space for work"
   ]
  },
  {
   "cell_type": "markdown",
   "id": "9731bac4",
   "metadata": {},
   "source": [
    "## Q5. Evaluate the Q4 forecast\n",
    "\n",
    "Calculate the average Brier quadratic score of the forecast from Q4 across April's weeks, using the resolved outcomes in our dataset. How does the score compare to the score for the Q2 forecast? "
   ]
  },
  {
   "cell_type": "code",
   "execution_count": 10,
   "id": "e74db5a7",
   "metadata": {},
   "outputs": [],
   "source": [
    "# space for work"
   ]
  },
  {
   "cell_type": "markdown",
   "id": "5ee4bc45",
   "metadata": {},
   "source": [
    "# Approach 2: Forecasting by decomposition\n",
    "\n",
    "A different approach is to break down the outcome we're interested in into its component parts and analyze these parts. For this PPG question, we can calculate each player's average PPG over a week and their standard deviation. Then we can fit a distribution to this average and standard deviation and by sampling, predict the probability that each player will have the highest PPG in a future week.\n",
    "\n",
    "For example, we can find how many total points Stephen Curry scored in each week:"
   ]
  },
  {
   "cell_type": "code",
   "execution_count": 23,
   "id": "6e248f61",
   "metadata": {},
   "outputs": [
    {
     "data": {
      "text/html": [
       "<div>\n",
       "<style scoped>\n",
       "    .dataframe tbody tr th:only-of-type {\n",
       "        vertical-align: middle;\n",
       "    }\n",
       "\n",
       "    .dataframe tbody tr th {\n",
       "        vertical-align: top;\n",
       "    }\n",
       "\n",
       "    .dataframe thead th {\n",
       "        text-align: right;\n",
       "    }\n",
       "</style>\n",
       "<table border=\"1\" class=\"dataframe\">\n",
       "  <thead>\n",
       "    <tr style=\"text-align: right;\">\n",
       "      <th></th>\n",
       "      <th>Date</th>\n",
       "      <th>Player</th>\n",
       "      <th>Pts</th>\n",
       "    </tr>\n",
       "  </thead>\n",
       "  <tbody>\n",
       "    <tr>\n",
       "      <th>91</th>\n",
       "      <td>2020-12-28</td>\n",
       "      <td>Curry,Stephen</td>\n",
       "      <td>75</td>\n",
       "    </tr>\n",
       "    <tr>\n",
       "      <th>480</th>\n",
       "      <td>2021-01-04</td>\n",
       "      <td>Curry,Stephen</td>\n",
       "      <td>149</td>\n",
       "    </tr>\n",
       "    <tr>\n",
       "      <th>903</th>\n",
       "      <td>2021-01-11</td>\n",
       "      <td>Curry,Stephen</td>\n",
       "      <td>62</td>\n",
       "    </tr>\n",
       "    <tr>\n",
       "      <th>1289</th>\n",
       "      <td>2021-01-18</td>\n",
       "      <td>Curry,Stephen</td>\n",
       "      <td>81</td>\n",
       "    </tr>\n",
       "    <tr>\n",
       "      <th>1653</th>\n",
       "      <td>2021-01-25</td>\n",
       "      <td>Curry,Stephen</td>\n",
       "      <td>116</td>\n",
       "    </tr>\n",
       "    <tr>\n",
       "      <th>2031</th>\n",
       "      <td>2021-02-01</td>\n",
       "      <td>Curry,Stephen</td>\n",
       "      <td>71</td>\n",
       "    </tr>\n",
       "    <tr>\n",
       "      <th>2423</th>\n",
       "      <td>2021-02-08</td>\n",
       "      <td>Curry,Stephen</td>\n",
       "      <td>155</td>\n",
       "    </tr>\n",
       "    <tr>\n",
       "      <th>2803</th>\n",
       "      <td>2021-02-15</td>\n",
       "      <td>Curry,Stephen</td>\n",
       "      <td>135</td>\n",
       "    </tr>\n",
       "    <tr>\n",
       "      <th>3178</th>\n",
       "      <td>2021-02-22</td>\n",
       "      <td>Curry,Stephen</td>\n",
       "      <td>54</td>\n",
       "    </tr>\n",
       "    <tr>\n",
       "      <th>3526</th>\n",
       "      <td>2021-03-01</td>\n",
       "      <td>Curry,Stephen</td>\n",
       "      <td>106</td>\n",
       "    </tr>\n",
       "    <tr>\n",
       "      <th>3888</th>\n",
       "      <td>2021-03-08</td>\n",
       "      <td>Curry,Stephen</td>\n",
       "      <td>35</td>\n",
       "    </tr>\n",
       "    <tr>\n",
       "      <th>4213</th>\n",
       "      <td>2021-03-15</td>\n",
       "      <td>Curry,Stephen</td>\n",
       "      <td>73</td>\n",
       "    </tr>\n",
       "    <tr>\n",
       "      <th>4604</th>\n",
       "      <td>2021-03-22</td>\n",
       "      <td>Curry,Stephen</td>\n",
       "      <td>18</td>\n",
       "    </tr>\n",
       "  </tbody>\n",
       "</table>\n",
       "</div>"
      ],
      "text/plain": [
       "           Date         Player  Pts\n",
       "91   2020-12-28  Curry,Stephen   75\n",
       "480  2021-01-04  Curry,Stephen  149\n",
       "903  2021-01-11  Curry,Stephen   62\n",
       "1289 2021-01-18  Curry,Stephen   81\n",
       "1653 2021-01-25  Curry,Stephen  116\n",
       "2031 2021-02-01  Curry,Stephen   71\n",
       "2423 2021-02-08  Curry,Stephen  155\n",
       "2803 2021-02-15  Curry,Stephen  135\n",
       "3178 2021-02-22  Curry,Stephen   54\n",
       "3526 2021-03-01  Curry,Stephen  106\n",
       "3888 2021-03-08  Curry,Stephen   35\n",
       "4213 2021-03-15  Curry,Stephen   73\n",
       "4604 2021-03-22  Curry,Stephen   18"
      ]
     },
     "execution_count": 23,
     "metadata": {},
     "output_type": "execute_result"
    }
   ],
   "source": [
    "df_train_weekly[df_train_weekly.Player == \"Curry,Stephen\"]"
   ]
  },
  {
   "cell_type": "markdown",
   "id": "ca87e02f",
   "metadata": {},
   "source": [
    "We can plot a histogram of the point distribution and visualize that it is pretty noisy:"
   ]
  },
  {
   "cell_type": "code",
   "execution_count": 22,
   "id": "c2e1c907",
   "metadata": {},
   "outputs": [
    {
     "data": {
      "image/png": "[encoded data removed]",
      "text/plain": [
       "<Figure size 432x288 with 1 Axes>"
      ]
     },
     "metadata": {
      "needs_background": "light"
     },
     "output_type": "display_data"
    }
   ],
   "source": [
    "plt.figure()\n",
    "plt.title(\"Stephen Curry weekly points\")\n",
    "plt.ylabel(\"Frequency\")\n",
    "plt.hist(df_train_weekly[df_train_weekly.Player == \"Curry,Stephen\"]['Pts'])\n",
    "plt.show()"
   ]
  },
  {
   "cell_type": "markdown",
   "id": "806b3c8e",
   "metadata": {},
   "source": [
    "## Q6. Using a Gaussian approximation\n",
    "\n",
    "For at least 10 players that seem like contenders for getting the highest PPG (you choose the players, and you can also do this for more than 10 players):\n",
    "\n",
    "a) Compute their mean total points per week and standard deviation.\n",
    "\n",
    "b) Approximate each player's weekly points with an independent Gaussian distribution. Using these Gaussian approximations, calculate or simulate each of the players' probabilities of getting the highest PPG in a future week. (i.e., make a forecast like in Q2 and Q4)."
   ]
  },
  {
   "cell_type": "code",
   "execution_count": 24,
   "id": "8f799bca",
   "metadata": {},
   "outputs": [],
   "source": [
    "# space for work"
   ]
  },
  {
   "cell_type": "markdown",
   "id": "0dcb72f8",
   "metadata": {},
   "source": [
    "## Q7. Modeling other players\n",
    "Modify your forecast in Q6 to take into account the players other than the 10 you've examined so far. For example, some considerations you might think about include: are the players you ranked 9th and 10th very similar to 2, or 10, or 50 other players in the NBA, and should they split the probability density further?; which players have a vanishingly small probability of getting the highest PPG?"
   ]
  },
  {
   "cell_type": "code",
   "execution_count": 26,
   "id": "b3ad002e",
   "metadata": {},
   "outputs": [],
   "source": [
    "# space for work"
   ]
  },
  {
   "cell_type": "markdown",
   "id": "8e4d961c",
   "metadata": {},
   "source": [
    "## Q8. Evaluate the Gaussian approximation forecasts\n",
    "\n",
    "Calculate the Brier quadratic score for the forecasts from Q6 and Q7. How do they compare to the Brier scores from Q2 and Q4?"
   ]
  },
  {
   "cell_type": "code",
   "execution_count": 25,
   "id": "bbd12530",
   "metadata": {},
   "outputs": [],
   "source": [
    "# space for work"
   ]
  },
  {
   "cell_type": "markdown",
   "id": "f64ed7e9",
   "metadata": {},
   "source": [
    "## Q9.  Beyond Gaussians\n",
    "\n",
    "a) For (at least) the 10 players in Q6 (but more is fine, too), plot a histogram of their weekly points like in the Stephen Curry example above, and superimpose the Q6 Gaussian distribution approximation on the histogram. (i.e., plot the Gaussian probability density function based on the mean and standard deviation calculated for that player). Note that you may need to scale the histogram units and/or the Gaussian pdf in order to get the histogram and the Gaussian pdf to look comparable.\n",
    "\n",
    "b) Pick (at least) 2 players whose point distributions do not fit the Gaussian approximation well. Propose different distributions to approximate the data, and plot these curves on the histograms. Discuss why you chose these distributions, and if you fit the parameters of the distribution to the data, describe how."
   ]
  },
  {
   "cell_type": "code",
   "execution_count": 27,
   "id": "eca2b38a",
   "metadata": {},
   "outputs": [],
   "source": [
    "# space for work"
   ]
  },
  {
   "cell_type": "markdown",
   "id": "39364e4e",
   "metadata": {},
   "source": [
    "## Q10. Independence assumptions\n",
    "\n",
    "a) So far in this decomposition approach, we have assumed that each player's points are independent of another's. What are some things that might cause points in a game to not be independent between players?\n",
    "\n",
    "b) What are some ways you might quantify and model these dependencies?"
   ]
  },
  {
   "cell_type": "code",
   "execution_count": 28,
   "id": "653f35f2",
   "metadata": {},
   "outputs": [],
   "source": [
    "# space for work"
   ]
  }
 ],
 "metadata": {
  "kernelspec": {
   "display_name": "Python 3 (ipykernel)",
   "language": "python",
   "name": "python3"
  },
  "language_info": {
   "codemirror_mode": {
    "name": "ipython",
    "version": 3
   },
   "file_extension": ".py",
   "mimetype": "text/x-python",
   "name": "python",
   "nbconvert_exporter": "python",
   "pygments_lexer": "ipython3",
   "version": "3.9.7"
  }
 },
 "nbformat": 4,
 "nbformat_minor": 5
}
