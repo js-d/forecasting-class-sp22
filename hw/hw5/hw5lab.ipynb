{
 "cells": [
  {
   "cell_type": "markdown",
   "metadata": {},
   "source": [
    "# Homework 5 Lab: Forecasting Points Per Game (PPG) Part II\n",
    "\n",
    "As in Homework 4 Lab, we will be using data scraped from https://www.basketball-reference.com/ to explore different forecasting strategies to predict who will have the highest PPG in the NBA in a particular week. We'll use data from the 2020-21 NBA season between December 2020 and March 2021 to forecast the highest PPG players in April 2021, the final month of the regular season. Part I focused on the **reference class forecasting** approach. Here we will explore a different approach, **decomposition into parts**. This lab has many open-ended questions, and there is often not one correct answer. We will grade submissions mostly based on your reasoning. "
   ]
  },
  {
   "cell_type": "markdown",
   "metadata": {},
   "source": [
    "## Gradescope Submission \n",
    "To submit this assignment, rerun the notebook from scratch (by selecting Kernel > Restart & Run all), and then print as a pdf (File > download as > pdf) and submit it to Gradescope. You are also welcome to use R or another language if you are more comfortable with data analysis in that language.\n",
    "\n",
    "\n",
    "**This assignment should be completed and submitted before Monday, February 21, 2022 at 11:59 PM. PT**"
   ]
  },
  {
   "cell_type": "code",
   "execution_count": 2,
   "metadata": {},
   "outputs": [],
   "source": [
    "import numpy as np\n",
    "import pandas as pd\n",
    "from matplotlib import pyplot as plt"
   ]
  },
  {
   "cell_type": "markdown",
   "metadata": {},
   "source": [
    "### Data\n",
    "We are using the same raw data as in the previous lab, which is in the file \"scraped_games_2020-21.csv\". "
   ]
  },
  {
   "cell_type": "code",
   "execution_count": 3,
   "metadata": {},
   "outputs": [
    {
     "data": {
      "text/html": [
       "<div>\n",
       "<style scoped>\n",
       "    .dataframe tbody tr th:only-of-type {\n",
       "        vertical-align: middle;\n",
       "    }\n",
       "\n",
       "    .dataframe tbody tr th {\n",
       "        vertical-align: top;\n",
       "    }\n",
       "\n",
       "    .dataframe thead th {\n",
       "        text-align: right;\n",
       "    }\n",
       "</style>\n",
       "<table border=\"1\" class=\"dataframe\">\n",
       "  <thead>\n",
       "    <tr style=\"text-align: right;\">\n",
       "      <th></th>\n",
       "      <th>Date</th>\n",
       "      <th>Player</th>\n",
       "      <th>Pts</th>\n",
       "    </tr>\n",
       "  </thead>\n",
       "  <tbody>\n",
       "    <tr>\n",
       "      <td>0</td>\n",
       "      <td>2020-12-22</td>\n",
       "      <td>Wiggins,Andrew</td>\n",
       "      <td>13</td>\n",
       "    </tr>\n",
       "    <tr>\n",
       "      <td>1</td>\n",
       "      <td>2020-12-22</td>\n",
       "      <td>Curry,Stephen</td>\n",
       "      <td>20</td>\n",
       "    </tr>\n",
       "    <tr>\n",
       "      <td>2</td>\n",
       "      <td>2020-12-22</td>\n",
       "      <td>Oubre,Kelly</td>\n",
       "      <td>6</td>\n",
       "    </tr>\n",
       "    <tr>\n",
       "      <td>3</td>\n",
       "      <td>2020-12-22</td>\n",
       "      <td>Wiseman,James</td>\n",
       "      <td>19</td>\n",
       "    </tr>\n",
       "    <tr>\n",
       "      <td>4</td>\n",
       "      <td>2020-12-22</td>\n",
       "      <td>Paschall,Eric</td>\n",
       "      <td>6</td>\n",
       "    </tr>\n",
       "  </tbody>\n",
       "</table>\n",
       "</div>"
      ],
      "text/plain": [
       "        Date          Player  Pts\n",
       "0 2020-12-22  Wiggins,Andrew   13\n",
       "1 2020-12-22   Curry,Stephen   20\n",
       "2 2020-12-22     Oubre,Kelly    6\n",
       "3 2020-12-22   Wiseman,James   19\n",
       "4 2020-12-22   Paschall,Eric    6"
      ]
     },
     "execution_count": 3,
     "metadata": {},
     "output_type": "execute_result"
    }
   ],
   "source": [
    "df = pd.read_csv(\"scraped_games_2020-21.csv\", index_col=0, parse_dates=['Date'])\n",
    "df.head()"
   ]
  },
  {
   "cell_type": "markdown",
   "metadata": {},
   "source": [
    "### Optional preprocessing steps"
   ]
  },
  {
   "cell_type": "code",
   "execution_count": 4,
   "metadata": {},
   "outputs": [],
   "source": [
    "# Split into pre-April and April data; here we'ved named them train and test but the variable names don't matter.\n",
    "df_train = df[df[\"Date\"] < \"2021-3-29\"]\n",
    "df_test = df[df[\"Date\"] >= \"2021-3-29\"]"
   ]
  },
  {
   "cell_type": "code",
   "execution_count": 5,
   "metadata": {},
   "outputs": [],
   "source": [
    "# We group the games by week and find the total points scored by each player that week\n",
    "# The flag freq='W-MON' will group data weekly on Mondays as described in https://pandas.pydata.org/pandas-docs/stable/user_guide/timeseries.html#offset-aliases\n",
    "df_train_weekly = df_train.groupby([pd.Grouper(key='Date', freq='W-MON'), 'Player'])['Pts'].sum().reset_index().sort_values(['Date', 'Pts'], ascending=[True,False])\n",
    "df_test_weekly = df_test.groupby([pd.Grouper(key='Date', freq='W-MON'), 'Player'])['Pts'].sum().reset_index().sort_values(['Date', 'Pts'], ascending=[True,False])"
   ]
  },
  {
   "cell_type": "markdown",
   "metadata": {},
   "source": [
    "# Approach: Forecasting by decomposition\n",
    "\n",
    "A different approach is to break down the outcome we're interested in into its component parts and analyze these parts. For this PPG question, we can calculate each player's average PPG over a week and their standard deviation. Then we can fit a distribution to this average and standard deviation and by sampling, predict the probability that each player will have the highest PPG in a future week.\n",
    "\n",
    "For example, we can find how many total points Stephen Curry scored in each week:"
   ]
  },
  {
   "cell_type": "code",
   "execution_count": 23,
   "metadata": {},
   "outputs": [
    {
     "data": {
      "text/html": [
       "<div>\n",
       "<style scoped>\n",
       "    .dataframe tbody tr th:only-of-type {\n",
       "        vertical-align: middle;\n",
       "    }\n",
       "\n",
       "    .dataframe tbody tr th {\n",
       "        vertical-align: top;\n",
       "    }\n",
       "\n",
       "    .dataframe thead th {\n",
       "        text-align: right;\n",
       "    }\n",
       "</style>\n",
       "<table border=\"1\" class=\"dataframe\">\n",
       "  <thead>\n",
       "    <tr style=\"text-align: right;\">\n",
       "      <th></th>\n",
       "      <th>Date</th>\n",
       "      <th>Player</th>\n",
       "      <th>Pts</th>\n",
       "    </tr>\n",
       "  </thead>\n",
       "  <tbody>\n",
       "    <tr>\n",
       "      <th>91</th>\n",
       "      <td>2020-12-28</td>\n",
       "      <td>Curry,Stephen</td>\n",
       "      <td>75</td>\n",
       "    </tr>\n",
       "    <tr>\n",
       "      <th>480</th>\n",
       "      <td>2021-01-04</td>\n",
       "      <td>Curry,Stephen</td>\n",
       "      <td>149</td>\n",
       "    </tr>\n",
       "    <tr>\n",
       "      <th>903</th>\n",
       "      <td>2021-01-11</td>\n",
       "      <td>Curry,Stephen</td>\n",
       "      <td>62</td>\n",
       "    </tr>\n",
       "    <tr>\n",
       "      <th>1289</th>\n",
       "      <td>2021-01-18</td>\n",
       "      <td>Curry,Stephen</td>\n",
       "      <td>81</td>\n",
       "    </tr>\n",
       "    <tr>\n",
       "      <th>1653</th>\n",
       "      <td>2021-01-25</td>\n",
       "      <td>Curry,Stephen</td>\n",
       "      <td>116</td>\n",
       "    </tr>\n",
       "    <tr>\n",
       "      <th>2031</th>\n",
       "      <td>2021-02-01</td>\n",
       "      <td>Curry,Stephen</td>\n",
       "      <td>71</td>\n",
       "    </tr>\n",
       "    <tr>\n",
       "      <th>2423</th>\n",
       "      <td>2021-02-08</td>\n",
       "      <td>Curry,Stephen</td>\n",
       "      <td>155</td>\n",
       "    </tr>\n",
       "    <tr>\n",
       "      <th>2803</th>\n",
       "      <td>2021-02-15</td>\n",
       "      <td>Curry,Stephen</td>\n",
       "      <td>135</td>\n",
       "    </tr>\n",
       "    <tr>\n",
       "      <th>3178</th>\n",
       "      <td>2021-02-22</td>\n",
       "      <td>Curry,Stephen</td>\n",
       "      <td>54</td>\n",
       "    </tr>\n",
       "    <tr>\n",
       "      <th>3526</th>\n",
       "      <td>2021-03-01</td>\n",
       "      <td>Curry,Stephen</td>\n",
       "      <td>106</td>\n",
       "    </tr>\n",
       "    <tr>\n",
       "      <th>3888</th>\n",
       "      <td>2021-03-08</td>\n",
       "      <td>Curry,Stephen</td>\n",
       "      <td>35</td>\n",
       "    </tr>\n",
       "    <tr>\n",
       "      <th>4213</th>\n",
       "      <td>2021-03-15</td>\n",
       "      <td>Curry,Stephen</td>\n",
       "      <td>73</td>\n",
       "    </tr>\n",
       "    <tr>\n",
       "      <th>4604</th>\n",
       "      <td>2021-03-22</td>\n",
       "      <td>Curry,Stephen</td>\n",
       "      <td>18</td>\n",
       "    </tr>\n",
       "  </tbody>\n",
       "</table>\n",
       "</div>"
      ],
      "text/plain": [
       "           Date         Player  Pts\n",
       "91   2020-12-28  Curry,Stephen   75\n",
       "480  2021-01-04  Curry,Stephen  149\n",
       "903  2021-01-11  Curry,Stephen   62\n",
       "1289 2021-01-18  Curry,Stephen   81\n",
       "1653 2021-01-25  Curry,Stephen  116\n",
       "2031 2021-02-01  Curry,Stephen   71\n",
       "2423 2021-02-08  Curry,Stephen  155\n",
       "2803 2021-02-15  Curry,Stephen  135\n",
       "3178 2021-02-22  Curry,Stephen   54\n",
       "3526 2021-03-01  Curry,Stephen  106\n",
       "3888 2021-03-08  Curry,Stephen   35\n",
       "4213 2021-03-15  Curry,Stephen   73\n",
       "4604 2021-03-22  Curry,Stephen   18"
      ]
     },
     "execution_count": 23,
     "metadata": {},
     "output_type": "execute_result"
    }
   ],
   "source": [
    "df_train_weekly[df_train_weekly.Player == \"Curry,Stephen\"]"
   ]
  },
  {
   "cell_type": "markdown",
   "metadata": {},
   "source": [
    "We can plot a histogram of the point distribution and visualize that it is pretty noisy:"
   ]
  },
  {
   "cell_type": "code",
   "execution_count": 22,
   "metadata": {},
   "outputs": [
    {
     "data": {
      "image/png": "[encoded data removed]",
      "text/plain": [
       "<Figure size 432x288 with 1 Axes>"
      ]
     },
     "metadata": {
      "needs_background": "light"
     },
     "output_type": "display_data"
    }
   ],
   "source": [
    "plt.figure()\n",
    "plt.title(\"Stephen Curry weekly points\")\n",
    "plt.ylabel(\"Frequency\")\n",
    "plt.hist(df_train_weekly[df_train_weekly.Player == \"Curry,Stephen\"]['Pts'])\n",
    "plt.show()"
   ]
  },
  {
   "cell_type": "markdown",
   "metadata": {},
   "source": [
    "## Q1. Using a Gaussian approximation\n",
    "\n",
    "For at least 10 players that seem like contenders for getting the highest PPG (you choose the players, and you can also do this for more than 10 players):\n",
    "\n",
    "a) Compute their mean total points per week and standard deviation.\n",
    "\n",
    "b) Approximate each player's weekly points with an independent Gaussian distribution. Using these Gaussian approximations, calculate or simulate each of the players' probabilities of getting the highest PPG in a future week. (i.e., make a forecast that assigns a probability $q_i$ to each player)."
   ]
  },
  {
   "cell_type": "code",
   "execution_count": 24,
   "metadata": {},
   "outputs": [],
   "source": [
    "# space for work"
   ]
  },
  {
   "cell_type": "markdown",
   "metadata": {},
   "source": [
    "## Q2. Modeling other players\n",
    "Modify your forecast in Q1 to take into account the players other than the 10 you've examined so far. For example, some considerations you might think about include: are the players you ranked 9th and 10th very similar to 2, or 10, or 50 other players in the NBA, and should they split the probability density further?; which players have a vanishingly small probability of getting the highest PPG?"
   ]
  },
  {
   "cell_type": "code",
   "execution_count": 26,
   "metadata": {},
   "outputs": [],
   "source": [
    "# space for work"
   ]
  },
  {
   "cell_type": "markdown",
   "metadata": {},
   "source": [
    "## Q3. Evaluate the Gaussian approximation forecasts\n",
    "\n",
    "Calculate the Brier quadratic score for the forecasts from Q1 and Q2. How do they compare to the Brier scores from the previous lab?"
   ]
  },
  {
   "cell_type": "code",
   "execution_count": 25,
   "metadata": {},
   "outputs": [],
   "source": [
    "# space for work"
   ]
  },
  {
   "cell_type": "markdown",
   "metadata": {},
   "source": [
    "## Q4.  Beyond Gaussians\n",
    "\n",
    "a) For (at least) the 10 players in Q1 (but more is fine, too), plot a histogram of their weekly points like in the Stephen Curry example above, and superimpose the Q1 Gaussian distribution approximation on the histogram. (i.e., plot the Gaussian probability density function based on the mean and standard deviation calculated for that player). Note that you may need to scale the histogram units and/or the Gaussian pdf in order to get the histogram and the Gaussian pdf to look comparable.\n",
    "\n",
    "b) Pick (at least) 2 players whose point distributions do not fit the Gaussian approximation well. Propose different distributions to approximate the data, and plot these curves on the histograms. Discuss why you chose these distributions, and if you fit the parameters of the distribution to the data, describe how."
   ]
  },
  {
   "cell_type": "code",
   "execution_count": 27,
   "metadata": {},
   "outputs": [],
   "source": [
    "# space for work"
   ]
  },
  {
   "cell_type": "markdown",
   "metadata": {},
   "source": [
    "## Q5. Independence assumptions\n",
    "\n",
    "a) So far in this decomposition approach, we have assumed that each player's points are independent of another's. What are some things that might cause points in a game to not be independent between players?\n",
    "\n",
    "b) What are some ways you might quantify and model these dependencies?"
   ]
  },
  {
   "cell_type": "code",
   "execution_count": 28,
   "metadata": {},
   "outputs": [],
   "source": [
    "# space for work"
   ]
  }
 ],
 "metadata": {
  "kernelspec": {
   "display_name": "Python 3",
   "language": "python",
   "name": "python3"
  },
  "language_info": {
   "codemirror_mode": {
    "name": "ipython",
    "version": 3
   },
   "file_extension": ".py",
   "mimetype": "text/x-python",
   "name": "python",
   "nbconvert_exporter": "python",
   "pygments_lexer": "ipython3",
   "version": "3.7.4"
  }
 },
 "nbformat": 4,
 "nbformat_minor": 5
}
